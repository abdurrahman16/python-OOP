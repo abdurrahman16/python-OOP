{
  "nbformat": 4,
  "nbformat_minor": 0,
  "metadata": {
    "colab": {
      "provenance": [],
      "authorship_tag": "ABX9TyNRQhCx3DKdGKxgZRgNR+Ay",
      "include_colab_link": true
    },
    "kernelspec": {
      "name": "python3",
      "display_name": "Python 3"
    },
    "language_info": {
      "name": "python"
    }
  },
  "cells": [
    {
      "cell_type": "markdown",
      "metadata": {
        "id": "view-in-github",
        "colab_type": "text"
      },
      "source": [
        "<a href=\"https://colab.research.google.com/github/abdurrahman16/python-OOP/blob/main/Advance_Data_Structure_.ipynb\" target=\"_parent\"><img src=\"https://colab.research.google.com/assets/colab-badge.svg\" alt=\"Open In Colab\"/></a>"
      ]
    },
    {
      "cell_type": "code",
      "source": [
        "#multilevel dictionary\n",
        "school = {\n",
        "    \"name\": \"Greenwood High\",\n",
        "    \"established\": 1995,\n",
        "    \"students\": {\n",
        "        \"grade_1\": [\"John\", \"Emma\", \"Liam\"],\n",
        "        \"grade_2\": [\"Sophia\", \"Olivia\", \"Noah\"],\n",
        "        \"grade_3\": [\"Mia\", \"James\", \"Ethan\"]\n",
        "    },\n",
        "    \"principal\": {\n",
        "        \"name\": \"Mr. Brown\",\n",
        "        \"experience_years\": 15,\n",
        "        \"contact\": {\n",
        "            \"email\": \"principal@greenwood.edu\",\n",
        "            \"phone\": \"123-456-7890\"\n",
        "        }\n",
        "    },\n",
        "    \"teachers\": {\n",
        "        \"math\": {\"name\": \"Mrs. Clark\", \"experience\": 10, \"subjects\": [\"Algebra\", \"Geometry\"]},\n",
        "        \"science\": {\"name\": \"Mr. Davis\", \"experience\": 8, \"subjects\": [\"Physics\", \"Chemistry\"]},\n",
        "        \"english\": {\"name\": \"Ms. Lee\", \"experience\": 12, \"subjects\": [\"Literature\", \"Grammar\"]}\n",
        "    },\n",
        "    \"library\": {\n",
        "        \"books_count\": 2500,\n",
        "        \"sections\": {\n",
        "            \"fiction\": [\"Harry Potter\", \"The Hobbit\", \"Pride and Prejudice\"],\n",
        "            \"non_fiction\": [\"Sapiens\", \"Educated\", \"The Wright Brothers\"]\n",
        "        }\n",
        "    },\n",
        "    \"sports\": {\n",
        "        \"indoor\": [\"Table Tennis\", \"Badminton\", \"Chess\"],\n",
        "        \"outdoor\": [\"Football\", \"Basketball\", \"Cricket\"]\n",
        "    }\n",
        "}\n",
        "\n",
        "print(\"Your result is: \",school['students']['grade_1'][0])\n",
        "print(\"Your result is: \",school['principal']['contact']['email'])"
      ],
      "metadata": {
        "id": "wvSUu16mnNny",
        "colab": {
          "base_uri": "https://localhost:8080/"
        },
        "outputId": "1a58935c-52f3-4d94-aca3-98d548a0b2a5"
      },
      "execution_count": 36,
      "outputs": [
        {
          "output_type": "stream",
          "name": "stdout",
          "text": [
            "Your result is:  John\n",
            "Your result is:  principal@greenwood.edu\n"
          ]
        }
      ]
    }
  ]
}