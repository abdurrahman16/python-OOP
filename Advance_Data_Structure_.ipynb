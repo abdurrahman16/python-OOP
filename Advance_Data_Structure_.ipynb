{
  "nbformat": 4,
  "nbformat_minor": 0,
  "metadata": {
    "colab": {
      "provenance": [],
      "authorship_tag": "ABX9TyM1jVVJiGSELU3n8gWtdNLa",
      "include_colab_link": true
    },
    "kernelspec": {
      "name": "python3",
      "display_name": "Python 3"
    },
    "language_info": {
      "name": "python"
    }
  },
  "cells": [
    {
      "cell_type": "markdown",
      "metadata": {
        "id": "view-in-github",
        "colab_type": "text"
      },
      "source": [
        "<a href=\"https://colab.research.google.com/github/abdurrahman16/python-OOP/blob/main/Advance_Data_Structure_.ipynb\" target=\"_parent\"><img src=\"https://colab.research.google.com/assets/colab-badge.svg\" alt=\"Open In Colab\"/></a>"
      ]
    },
    {
      "cell_type": "code",
      "source": [
        "#nested lists\n",
        "school_clasess =[\n",
        "    ['Babu', 'Chadny', 'Nimny'], #classA\n",
        "    ['Opu','Toma', 'Sumon'], #ClassB\n",
        "    ['Abdur','Rahman', 'Babban'] #ClassC\n",
        "]\n",
        "\n",
        "#print through nested loop\n",
        "for i in range(3):\n",
        "  print(f'Row: {chr(65+i)}')\n",
        "  for j in range(3):\n",
        "    print(school_clasess[i][j])\n",
        "\n",
        "print('***'*30)\n",
        "#print different way\n",
        "for row in school_clasess:\n",
        "  for value in row:\n",
        "    print(value)\n",
        "\n"
      ],
      "metadata": {
        "id": "wvSUu16mnNny",
        "colab": {
          "base_uri": "https://localhost:8080/"
        },
        "outputId": "8ff5145d-0e30-4393-e216-49e111d53b3c"
      },
      "execution_count": 27,
      "outputs": [
        {
          "output_type": "stream",
          "name": "stdout",
          "text": [
            "Row: A\n",
            "Babu\n",
            "Chadny\n",
            "Nimny\n",
            "Row: B\n",
            "Opu\n",
            "Toma\n",
            "Sumon\n",
            "Row: C\n",
            "Abdur\n",
            "Rahman\n",
            "Babban\n",
            "******************************************************************************************\n",
            "Babu\n",
            "Chadny\n",
            "Nimny\n",
            "Opu\n",
            "Toma\n",
            "Sumon\n",
            "Abdur\n",
            "Rahman\n",
            "Babban\n"
          ]
        }
      ]
    }
  ]
}