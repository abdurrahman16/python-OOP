{
  "nbformat": 4,
  "nbformat_minor": 0,
  "metadata": {
    "colab": {
      "provenance": [],
      "authorship_tag": "ABX9TyMfvjr+lwU4LEIiRJ9/472C",
      "include_colab_link": true
    },
    "kernelspec": {
      "name": "python3",
      "display_name": "Python 3"
    },
    "language_info": {
      "name": "python"
    }
  },
  "cells": [
    {
      "cell_type": "markdown",
      "metadata": {
        "id": "view-in-github",
        "colab_type": "text"
      },
      "source": [
        "<a href=\"https://colab.research.google.com/github/abdurrahman16/python-OOP/blob/main/Advance_Data_Structure_Comparison.ipynb\" target=\"_parent\"><img src=\"https://colab.research.google.com/assets/colab-badge.svg\" alt=\"Open In Colab\"/></a>"
      ]
    },
    {
      "cell_type": "code",
      "source": [
        "#nested lists\n",
        "school_clasess =[\n",
        "    ['Babu', 'Chadny', 'Nimny'], #classA\n",
        "    ['Opu','Toma', 'Sumon'], #ClassB\n",
        "    ['Abdur','Rahman', 'Babban'] #ClassC\n",
        "]\n",
        "\n",
        "print('School Classes:')\n",
        "\n",
        "for i, class_list in enumerate(school_clasess):\n",
        "  print(f'Class {chr(65+i)}:{class_list}')\n",
        "print('------------')\n",
        "\n",
        "#2d matrix specific element print\n",
        "print(f'Detaisl for 1: {school_clasess[2][2]}')\n",
        "print(f'Detaisl for 2: {school_clasess[0][1]}')\n",
        "\n",
        "\n",
        "\n",
        "\n"
      ],
      "metadata": {
        "id": "wvSUu16mnNny",
        "colab": {
          "base_uri": "https://localhost:8080/"
        },
        "outputId": "e8c6adfb-cbeb-4a6c-d1eb-9078add6f7ac"
      },
      "execution_count": 21,
      "outputs": [
        {
          "output_type": "stream",
          "name": "stdout",
          "text": [
            "School Classes:\n",
            "Class A:['Babu', 'Chadny', 'Nimny']\n",
            "Class B:['Opu', 'Toma', 'Sumon']\n",
            "Class C:['Abdur', 'Rahman', 'Babban']\n",
            "------------\n",
            "Detaisl for 1: Babban\n",
            "Detaisl for 2: Chadny\n"
          ]
        }
      ]
    }
  ]
}