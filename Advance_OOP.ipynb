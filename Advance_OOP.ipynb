{
  "nbformat": 4,
  "nbformat_minor": 0,
  "metadata": {
    "colab": {
      "provenance": [],
      "authorship_tag": "ABX9TyNYmCk6MiYJlcQtIyQYI6K5",
      "include_colab_link": true
    },
    "kernelspec": {
      "name": "python3",
      "display_name": "Python 3"
    },
    "language_info": {
      "name": "python"
    }
  },
  "cells": [
    {
      "cell_type": "markdown",
      "metadata": {
        "id": "view-in-github",
        "colab_type": "text"
      },
      "source": [
        "<a href=\"https://colab.research.google.com/github/abdurrahman16/python-OOP/blob/main/Advance_OOP.ipynb\" target=\"_parent\"><img src=\"https://colab.research.google.com/assets/colab-badge.svg\" alt=\"Open In Colab\"/></a>"
      ]
    },
    {
      "cell_type": "code",
      "source": [
        "#class and constructor\n",
        "class rectangle:\n",
        "   def __init__(self, length, width):\n",
        "    self.length=length\n",
        "    self.width=width\n",
        "\n",
        "   def area(self):\n",
        "     return self.length* self.width\n",
        "\n",
        "   def perimeter(self):\n",
        "     return 2* (self.length + self.width)\n",
        "\n",
        "\n",
        "\n",
        "myarea= rectangle(10,20)\n",
        "myarea.perimeter()\n"
      ],
      "metadata": {
        "id": "IXH3yDldQE9O",
        "colab": {
          "base_uri": "https://localhost:8080/"
        },
        "outputId": "de2fc61a-a702-4b1a-85a2-603980edc545"
      },
      "execution_count": 10,
      "outputs": [
        {
          "output_type": "execute_result",
          "data": {
            "text/plain": [
              "60"
            ]
          },
          "metadata": {},
          "execution_count": 10
        }
      ]
    }
  ]
}