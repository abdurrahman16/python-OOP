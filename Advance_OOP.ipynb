{
  "nbformat": 4,
  "nbformat_minor": 0,
  "metadata": {
    "colab": {
      "provenance": [],
      "authorship_tag": "ABX9TyOMqSdkAjh2rlcLjG4O3ncV",
      "include_colab_link": true
    },
    "kernelspec": {
      "name": "python3",
      "display_name": "Python 3"
    },
    "language_info": {
      "name": "python"
    }
  },
  "cells": [
    {
      "cell_type": "markdown",
      "metadata": {
        "id": "view-in-github",
        "colab_type": "text"
      },
      "source": [
        "<a href=\"https://colab.research.google.com/github/abdurrahman16/python-OOP/blob/main/Advance_OOP.ipynb\" target=\"_parent\"><img src=\"https://colab.research.google.com/assets/colab-badge.svg\" alt=\"Open In Colab\"/></a>"
      ]
    },
    {
      "cell_type": "code",
      "source": [
        "#class and constructor\n",
        "class Car:\n",
        "  def __init__(self, name, type, color):\n",
        "    self.name=name\n",
        "    self.type=type\n",
        "    self.color=color\n",
        "\n",
        "  def FirstCar(self):\n",
        "    print('Your Car 01 Details: ')\n",
        "    return self.name, self.type, self.color\n",
        "\n",
        "  def SecondCar(self):\n",
        "      print('Your Car 02 Details: ')\n",
        "      return self.name, self.type, self.color, \"Made in: JAPAN\"\n",
        "\n",
        "\n",
        "mycar=Car('Toyota','Sedan','Black')\n",
        "print(mycar.FirstCar())\n",
        "print(mycar.SecondCar())\n",
        "\n"
      ],
      "metadata": {
        "id": "IXH3yDldQE9O",
        "colab": {
          "base_uri": "https://localhost:8080/"
        },
        "outputId": "6a3a208b-d918-4656-f811-fcc1e1bca923"
      },
      "execution_count": 14,
      "outputs": [
        {
          "output_type": "stream",
          "name": "stdout",
          "text": [
            "Your Car 01 Details: \n",
            "('Toyota', 'Sedan', 'Black')\n",
            "Your Car 02 Details: \n",
            "('Toyota', 'Sedan', 'Black', 'Made in: JAPAN')\n"
          ]
        }
      ]
    }
  ]
}