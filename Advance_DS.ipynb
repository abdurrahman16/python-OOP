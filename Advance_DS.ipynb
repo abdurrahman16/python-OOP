{
  "nbformat": 4,
  "nbformat_minor": 0,
  "metadata": {
    "colab": {
      "provenance": [],
      "authorship_tag": "ABX9TyO4hQjY7w0GhdOyM7MLYdA6",
      "include_colab_link": true
    },
    "kernelspec": {
      "name": "python3",
      "display_name": "Python 3"
    },
    "language_info": {
      "name": "python"
    }
  },
  "cells": [
    {
      "cell_type": "markdown",
      "metadata": {
        "id": "view-in-github",
        "colab_type": "text"
      },
      "source": [
        "<a href=\"https://colab.research.google.com/github/abdurrahman16/python-OOP/blob/main/Advance_DS.ipynb\" target=\"_parent\"><img src=\"https://colab.research.google.com/assets/colab-badge.svg\" alt=\"Open In Colab\"/></a>"
      ]
    },
    {
      "cell_type": "code",
      "source": [
        "mylist=[\n",
        "    ['A','B','C','D','E'],\n",
        "    ['A','B','C','D','E'],\n",
        "    ['A','B','C','D','E'],\n",
        "    ['A','B','C','D','E'],\n",
        "    ['A','B','C','D','E']\n",
        "]\n",
        "\n",
        "matrix=[\n",
        "    [1,2,3],\n",
        "    [4,5,6],\n",
        "    [7,8,9]\n",
        "]\n",
        "for i in matrix:\n",
        "  print(i)\n"
      ],
      "metadata": {
        "colab": {
          "base_uri": "https://localhost:8080/"
        },
        "id": "igofLZ8M11bA",
        "outputId": "9eaf91de-0050-4bbb-e688-2171c8ca4a2f"
      },
      "execution_count": 11,
      "outputs": [
        {
          "output_type": "stream",
          "name": "stdout",
          "text": [
            "[1, 2, 3]\n",
            "[4, 5, 6]\n",
            "[7, 8, 9]\n"
          ]
        }
      ]
    }
  ]
}