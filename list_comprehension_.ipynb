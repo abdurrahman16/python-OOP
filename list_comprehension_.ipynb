{
  "nbformat": 4,
  "nbformat_minor": 0,
  "metadata": {
    "colab": {
      "provenance": [],
      "authorship_tag": "ABX9TyPxwrwugwmv2i7L0ChMI400",
      "include_colab_link": true
    },
    "kernelspec": {
      "name": "python3",
      "display_name": "Python 3"
    },
    "language_info": {
      "name": "python"
    }
  },
  "cells": [
    {
      "cell_type": "markdown",
      "metadata": {
        "id": "view-in-github",
        "colab_type": "text"
      },
      "source": [
        "<a href=\"https://colab.research.google.com/github/abdurrahman16/python-OOP/blob/main/list_comprehension_.ipynb\" target=\"_parent\"><img src=\"https://colab.research.google.com/assets/colab-badge.svg\" alt=\"Open In Colab\"/></a>"
      ]
    },
    {
      "cell_type": "code",
      "source": [
        "mylist = [ i/3.396 for i in range(10,98,2)]\n",
        "print(mylist)\n",
        "len(mylist)\n",
        "mylist[1]\n"
      ],
      "metadata": {
        "colab": {
          "base_uri": "https://localhost:8080/"
        },
        "id": "EinP5NI_Dojp",
        "outputId": "c130d618-be0f-4710-da91-dfe30093b7cf"
      },
      "execution_count": 14,
      "outputs": [
        {
          "output_type": "stream",
          "name": "stdout",
          "text": [
            "[2.944640753828033, 3.53356890459364, 4.122497055359246, 4.7114252061248525, 5.30035335689046, 5.889281507656066, 6.478209658421672, 7.06713780918728, 7.656065959952886, 8.244994110718492, 8.8339222614841, 9.422850412249705, 10.011778563015312, 10.60070671378092, 11.189634864546525, 11.778563015312132, 12.36749116607774, 12.956419316843345, 13.545347467608952, 14.13427561837456, 14.723203769140165, 15.312131919905772, 15.90106007067138, 16.489988221436985, 17.078916372202592, 17.6678445229682, 18.256772673733806, 18.84570082449941, 19.434628975265017, 20.023557126030624, 20.61248527679623, 21.20141342756184, 21.790341578327446, 22.37926972909305, 22.968197879858657, 23.557126030624264, 24.14605418138987, 24.73498233215548, 25.323910482921086, 25.91283863368669, 26.501766784452297, 27.090694935217904, 27.67962308598351, 28.26855123674912]\n"
          ]
        },
        {
          "output_type": "execute_result",
          "data": {
            "text/plain": [
              "3.53356890459364"
            ]
          },
          "metadata": {},
          "execution_count": 14
        }
      ]
    }
  ]
}