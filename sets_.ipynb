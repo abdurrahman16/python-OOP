{
  "nbformat": 4,
  "nbformat_minor": 0,
  "metadata": {
    "colab": {
      "provenance": [],
      "authorship_tag": "ABX9TyNquk66XGh2mX+IBhQhPIg/",
      "include_colab_link": true
    },
    "kernelspec": {
      "name": "python3",
      "display_name": "Python 3"
    },
    "language_info": {
      "name": "python"
    }
  },
  "cells": [
    {
      "cell_type": "markdown",
      "metadata": {
        "id": "view-in-github",
        "colab_type": "text"
      },
      "source": [
        "<a href=\"https://colab.research.google.com/github/abdurrahman16/python-OOP/blob/main/sets_.ipynb\" target=\"_parent\"><img src=\"https://colab.research.google.com/assets/colab-badge.svg\" alt=\"Open In Colab\"/></a>"
      ]
    },
    {
      "cell_type": "code",
      "source": [
        "myset1={1,2,9,6,6,5,4}\n",
        "myset2={2,9,3,5,6,-5,-4}\n",
        "\n",
        "unions= myset1 | myset2\n",
        "print(unions)\n",
        "\n",
        "intersec = myset1 & myset2\n",
        "print(intersec)\n",
        "\n",
        "cutset= myset1 - myset2\n",
        "print(cutset)\n",
        "\n",
        "symmdiff= myset1 ^ myset2\n",
        "print(symmdiff)\n",
        "\n"
      ],
      "metadata": {
        "colab": {
          "base_uri": "https://localhost:8080/"
        },
        "id": "EinP5NI_Dojp",
        "outputId": "9d4b7101-aa74-4cf1-a832-8e90b1fc0812"
      },
      "execution_count": 8,
      "outputs": [
        {
          "output_type": "stream",
          "name": "stdout",
          "text": [
            "{1, 2, 3, 4, 5, 6, 9, -5, -4}\n",
            "{9, 2, 5, 6}\n",
            "{1, 4}\n",
            "{1, 3, 4, -5, -4}\n"
          ]
        }
      ]
    }
  ]
}