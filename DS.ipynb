{
  "nbformat": 4,
  "nbformat_minor": 0,
  "metadata": {
    "colab": {
      "provenance": [],
      "authorship_tag": "ABX9TyOmMOgkvEAS7t9qo1572/zt",
      "include_colab_link": true
    },
    "kernelspec": {
      "name": "python3",
      "display_name": "Python 3"
    },
    "language_info": {
      "name": "python"
    }
  },
  "cells": [
    {
      "cell_type": "markdown",
      "metadata": {
        "id": "view-in-github",
        "colab_type": "text"
      },
      "source": [
        "<a href=\"https://colab.research.google.com/github/abdurrahman16/python-OOP/blob/main/DS.ipynb\" target=\"_parent\"><img src=\"https://colab.research.google.com/assets/colab-badge.svg\" alt=\"Open In Colab\"/></a>"
      ]
    },
    {
      "cell_type": "code",
      "source": [
        "student ={\n",
        "    'Name':'Babban',\n",
        "    'Age': 27\n",
        "}\n",
        "\n",
        "student2={\n",
        "    'Class': 'MS',\n",
        "    'Roll': 25\n",
        "}\n",
        "#newm= list(student.keys())\n",
        "student.update(student2)\n",
        "print(student)\n",
        "\n"
      ],
      "metadata": {
        "id": "LapSj8H1URZy",
        "colab": {
          "base_uri": "https://localhost:8080/"
        },
        "outputId": "14c6de75-56e1-49c2-bc16-144d6e18dc7d"
      },
      "execution_count": 14,
      "outputs": [
        {
          "output_type": "stream",
          "name": "stdout",
          "text": [
            "{'Name': 'Babban', 'Age': 27, 'Class': 'MS', 'Roll': 25}\n"
          ]
        }
      ]
    }
  ]
}