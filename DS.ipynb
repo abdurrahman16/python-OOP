{
  "nbformat": 4,
  "nbformat_minor": 0,
  "metadata": {
    "colab": {
      "provenance": [],
      "authorship_tag": "ABX9TyOuX5koNTn7/euCWr7VKHri",
      "include_colab_link": true
    },
    "kernelspec": {
      "name": "python3",
      "display_name": "Python 3"
    },
    "language_info": {
      "name": "python"
    }
  },
  "cells": [
    {
      "cell_type": "markdown",
      "metadata": {
        "id": "view-in-github",
        "colab_type": "text"
      },
      "source": [
        "<a href=\"https://colab.research.google.com/github/abdurrahman16/python-OOP/blob/main/DS.ipynb\" target=\"_parent\"><img src=\"https://colab.research.google.com/assets/colab-badge.svg\" alt=\"Open In Colab\"/></a>"
      ]
    },
    {
      "cell_type": "code",
      "source": [
        "grades = {\"Alice\": 85, \"Bob\": 92, \"Charlie\": 78, \"Diana\": 96}\n",
        "\n",
        "for name in grades:\n",
        "  print(name)\n",
        "\n",
        "for marks in grades.values():\n",
        "  print(marks)\n",
        "\n",
        "for name , marks in grades.items():\n",
        "  print(f'Name is: {name} and Grade is:{marks}')\n"
      ],
      "metadata": {
        "id": "LapSj8H1URZy",
        "colab": {
          "base_uri": "https://localhost:8080/"
        },
        "outputId": "f78ce036-a262-42a0-954e-c854550f1107"
      },
      "execution_count": 17,
      "outputs": [
        {
          "output_type": "stream",
          "name": "stdout",
          "text": [
            "Alice\n",
            "Bob\n",
            "Charlie\n",
            "Diana\n",
            "85\n",
            "92\n",
            "78\n",
            "96\n",
            "Name is: Alice and Grade is:85\n",
            "Name is: Bob and Grade is:92\n",
            "Name is: Charlie and Grade is:78\n",
            "Name is: Diana and Grade is:96\n"
          ]
        }
      ]
    }
  ]
}