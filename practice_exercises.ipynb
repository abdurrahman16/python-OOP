{
  "cells": [
    {
      "cell_type": "markdown",
      "metadata": {
        "id": "view-in-github",
        "colab_type": "text"
      },
      "source": [
        "<a href=\"https://colab.research.google.com/github/abdurrahman16/python-OOP/blob/main/practice_exercises.ipynb\" target=\"_parent\"><img src=\"https://colab.research.google.com/assets/colab-badge.svg\" alt=\"Open In Colab\"/></a>"
      ]
    },
    {
      "cell_type": "markdown",
      "id": "07dfc1c4",
      "metadata": {
        "id": "07dfc1c4"
      },
      "source": [
        "# Python Practice Exercises 💪\n",
        "## Loops, Strings, and Smart Operations\n",
        "\n",
        "Welcome to your hands-on practice session! This notebook contains exercises to help you master:\n",
        "\n",
        "- **For Loops & While Loops** 🔄\n",
        "- **Break & Continue Statements** 🚦\n",
        "- **String Operations** 📝\n",
        "- **Arithmetic Operations** ➕➖✖️➗\n",
        "- **Operator Precedence** 🎯\n",
        "- **Math Functions** 📐\n",
        "\n",
        "### Instructions:\n",
        "1. Read each exercise carefully\n",
        "2. Write your solution in the code cell below each exercise\n",
        "3. Run your code to test it\n",
        "4. Check the expected output when provided\n",
        "5. Try different variations to deepen your understanding\n",
        "\n",
        "Let's start coding! 🚀\n",
        "\n",
        "Made by: Nazmus Sakib Ahmed, Lead Instructor Ostad.\n",
        "Linkedin: https://www.linkedin.com/in/33sakib33/"
      ]
    },
    {
      "cell_type": "markdown",
      "id": "129982c1",
      "metadata": {
        "id": "129982c1"
      },
      "source": [
        "## 🔄 Section 1: For Loops Practice\n",
        "\n",
        "Let's practice different types of for loops!"
      ]
    },
    {
      "cell_type": "markdown",
      "id": "1aa2c2f1",
      "metadata": {
        "id": "1aa2c2f1"
      },
      "source": [
        "### Exercise 1.1: Print Even Numbers\n",
        "**Task:** Write a for loop that prints all even numbers from 2 to 20.\n",
        "\n",
        "**Expected Output:**\n",
        "```\n",
        "2 4 6 8 10 12 14 16 18 20\n",
        "```"
      ]
    },
    {
      "cell_type": "code",
      "execution_count": 3,
      "id": "c9149873",
      "metadata": {
        "id": "c9149873",
        "colab": {
          "base_uri": "https://localhost:8080/"
        },
        "outputId": "18a31110-76a8-4730-fb5e-bea373a66eaf"
      },
      "outputs": [
        {
          "output_type": "stream",
          "name": "stdout",
          "text": [
            "2\n",
            "4\n",
            "6\n",
            "8\n",
            "10\n",
            "12\n",
            "14\n",
            "16\n",
            "18\n",
            "20\n"
          ]
        }
      ],
      "source": [
        "i=0\n",
        "for i in range(2,21,2):\n",
        "  print(i)\n"
      ]
    },
    {
      "cell_type": "markdown",
      "id": "70893325",
      "metadata": {
        "id": "70893325"
      },
      "source": [
        "### Exercise 1.2: Calculate Sum of List\n",
        "**Task:** Given a list of numbers, calculate their sum using a for loop.\n",
        "\n",
        "**Given:**\n",
        "```python\n",
        "numbers = [12, 35, 9, 56, 24]\n",
        "```\n",
        "\n",
        "**Expected Output:**\n",
        "```\n",
        "The sum of [12, 35, 9, 56, 24] is: 136\n",
        "```"
      ]
    },
    {
      "cell_type": "code",
      "execution_count": 6,
      "id": "1607a7c2",
      "metadata": {
        "id": "1607a7c2",
        "colab": {
          "base_uri": "https://localhost:8080/"
        },
        "outputId": "588e7344-0bf4-4b1f-d79f-dc111ac77c39"
      },
      "outputs": [
        {
          "output_type": "stream",
          "name": "stdout",
          "text": [
            "[12, 35, 9, 56, 24] is: 136\n"
          ]
        }
      ],
      "source": [
        "numbers = [12, 35, 9, 56, 24]\n",
        "sum=0\n",
        "for i in numbers:\n",
        "  sum=sum+i\n",
        "print(numbers,'is:',sum)"
      ]
    },
    {
      "cell_type": "markdown",
      "id": "1e9a21c7",
      "metadata": {
        "id": "1e9a21c7"
      },
      "source": [
        "### Exercise 1.3: Print Multiplication Table\n",
        "**Task:** Create a multiplication table for the number 7 from 1 to 10.\n",
        "\n",
        "**Expected Output:**\n",
        "```\n",
        "7 × 1 = 7\n",
        "7 × 2 = 14\n",
        "7 × 3 = 21\n",
        "...\n",
        "7 × 10 = 70\n",
        "```"
      ]
    },
    {
      "cell_type": "code",
      "execution_count": 8,
      "id": "32139f4e",
      "metadata": {
        "id": "32139f4e",
        "colab": {
          "base_uri": "https://localhost:8080/"
        },
        "outputId": "9328bc31-7ea3-4208-e687-f20eca7a470e"
      },
      "outputs": [
        {
          "output_type": "stream",
          "name": "stdout",
          "text": [
            "7 x 1 = 7\n",
            "7 x 2 = 14\n",
            "7 x 3 = 21\n",
            "7 x 4 = 28\n",
            "7 x 5 = 35\n",
            "7 x 6 = 42\n",
            "7 x 7 = 49\n",
            "7 x 8 = 56\n",
            "7 x 9 = 63\n",
            "7 x 10 = 70\n"
          ]
        }
      ],
      "source": [
        "n=7\n",
        "for i in range (1,11):\n",
        "  print(n,'x',i,'=',n*i)"
      ]
    },
    {
      "cell_type": "markdown",
      "id": "11d86eaa",
      "metadata": {
        "id": "11d86eaa"
      },
      "source": [
        "## ⏰ Section 2: While Loops Practice\n",
        "\n",
        "Time to master while loops!"
      ]
    },
    {
      "cell_type": "markdown",
      "id": "9882b967",
      "metadata": {
        "id": "9882b967"
      },
      "source": [
        "### Exercise 2.1: Countdown Timer\n",
        "**Task:** Create a countdown from 10 to 1, then print \"Blast Off!\"\n",
        "\n",
        "**Expected Output:**\n",
        "```\n",
        "10\n",
        "9\n",
        "8\n",
        "7\n",
        "6\n",
        "5\n",
        "4\n",
        "3\n",
        "2\n",
        "1\n",
        "Blast Off!\n",
        "```"
      ]
    },
    {
      "cell_type": "code",
      "execution_count": 10,
      "id": "6db13e65",
      "metadata": {
        "id": "6db13e65",
        "colab": {
          "base_uri": "https://localhost:8080/"
        },
        "outputId": "c160f5a7-f895-4a7d-f342-e4e75cc22851"
      },
      "outputs": [
        {
          "output_type": "stream",
          "name": "stdout",
          "text": [
            "10\n",
            "9\n",
            "8\n",
            "7\n",
            "6\n",
            "5\n",
            "4\n",
            "3\n",
            "2\n",
            "1\n",
            "Blast off!\n"
          ]
        }
      ],
      "source": [
        "n=10\n",
        "while n>=1:\n",
        "  print(n)\n",
        "  n=n-1\n",
        "print('Blast off!')"
      ]
    },
    {
      "cell_type": "markdown",
      "id": "f0b48cc3",
      "metadata": {
        "id": "f0b48cc3"
      },
      "source": [
        "### Exercise 2.2: Find the Target Number\n",
        "**Task:** Use a while loop to find how many times you need to double the number 2 to exceed 1000.\n",
        "\n",
        "**Expected Output:**\n",
        "```\n",
        "Starting with: 2\n",
        "After 1 doubles: 4\n",
        "After 2 doubles: 8\n",
        "After 3 doubles: 16\n",
        "...\n",
        "After 9 doubles: 1024\n",
        "It took 9 doubles to exceed 1000\n",
        "```"
      ]
    },
    {
      "cell_type": "code",
      "execution_count": 15,
      "id": "6081a02e",
      "metadata": {
        "id": "6081a02e",
        "colab": {
          "base_uri": "https://localhost:8080/"
        },
        "outputId": "f4b16366-fc5d-4da0-91b9-fb1580b9b9ab"
      },
      "outputs": [
        {
          "output_type": "stream",
          "name": "stdout",
          "text": [
            "Starting with: 2\n",
            "After 1 doubles: 4\n",
            "After 2 doubles: 8\n",
            "After 3 doubles: 16\n",
            "After 4 doubles: 32\n",
            "After 5 doubles: 64\n",
            "After 6 doubles: 128\n",
            "After 7 doubles: 256\n",
            "After 8 doubles: 512\n",
            "After 9 doubles: 1024\n",
            "It took 9  doubles to exceed 1000\n"
          ]
        }
      ],
      "source": [
        "n=2\n",
        "print('Starting with:',n)\n",
        "count=0\n",
        "while n<1000:\n",
        "  n=n*2\n",
        "  count=count+1\n",
        "  print('After',count,'doubles:',n)\n",
        "print('It took', count, ' doubles to exceed 1000')"
      ]
    },
    {
      "cell_type": "markdown",
      "id": "3c445abc",
      "metadata": {
        "id": "3c445abc"
      },
      "source": [
        "## 🚦 Section 3: Break & Continue Practice\n",
        "\n",
        "Let's practice controlling loop flow!"
      ]
    },
    {
      "cell_type": "markdown",
      "id": "f0dd6277",
      "metadata": {
        "id": "f0dd6277"
      },
      "source": [
        "### Exercise 3.1: Find First Negative Number\n",
        "**Task:** Find and print the first negative number in a list. Stop searching once you find it.\n",
        "\n",
        "**Given:**\n",
        "```python\n",
        "numbers = [5, 12, -3, 8, -7, 15, -2]\n",
        "```\n",
        "\n",
        "**Expected Output:**\n",
        "```\n",
        "Checking: 5\n",
        "Checking: 12\n",
        "Checking: -3\n",
        "Found first negative number: -3\n",
        "```"
      ]
    },
    {
      "cell_type": "code",
      "execution_count": 22,
      "id": "b3c84feb",
      "metadata": {
        "id": "b3c84feb",
        "colab": {
          "base_uri": "https://localhost:8080/"
        },
        "outputId": "d6bda08d-73d9-4ac0-9440-9c055ec1f3cd"
      },
      "outputs": [
        {
          "output_type": "stream",
          "name": "stdout",
          "text": [
            "Checking: 5\n",
            "Checking: 12\n",
            "Checking: -3\n",
            "Found first negative number:  -3\n"
          ]
        }
      ],
      "source": [
        "numbers = [5, 12, -3, 8, -7, 15, -2]\n",
        "for i in numbers:\n",
        "  print('Checking:',i)\n",
        "  if i<0:\n",
        "    print('Found first negative number: ',i)\n",
        "    break"
      ]
    },
    {
      "cell_type": "markdown",
      "id": "8e54bb58",
      "metadata": {
        "id": "8e54bb58"
      },
      "source": [
        "### Exercise 3.2: Skip Multiples of 5\n",
        "**Task:** Print numbers from 1 to 25, but skip (don't print) any number that is a multiple of 5.\n",
        "\n",
        "**Expected Output:**\n",
        "```\n",
        "1 2 3 4 6 7 8 9 11 12 13 14 16 17 18 19 21 22 23 24\n",
        "```"
      ]
    },
    {
      "cell_type": "code",
      "execution_count": 36,
      "id": "08940939",
      "metadata": {
        "id": "08940939",
        "colab": {
          "base_uri": "https://localhost:8080/"
        },
        "outputId": "29bfa0f8-0282-4358-c737-3c6486baa039"
      },
      "outputs": [
        {
          "output_type": "stream",
          "name": "stdout",
          "text": [
            "1 2 3 4 6 7 8 9 11 12 13 14 16 17 18 19 21 22 23 24 "
          ]
        }
      ],
      "source": [
        "n=1\n",
        "for i in range(1,26):\n",
        "  if i%5==0:\n",
        "    continue\n",
        "  print(i, end=' ')"
      ]
    },
    {
      "cell_type": "markdown",
      "id": "58e57a97",
      "metadata": {
        "id": "58e57a97"
      },
      "source": [
        "## 📝 Section 4: String Operations Practice\n",
        "\n",
        "Time to master string manipulation!"
      ]
    },
    {
      "cell_type": "markdown",
      "id": "bd336ffc",
      "metadata": {
        "id": "bd336ffc"
      },
      "source": [
        "### Exercise 4.1: Count Vowels\n",
        "**Task:** Count how many vowels (a, e, i, o, u) are in a given sentence. Make it case-insensitive.\n",
        "\n",
        "**Given:**\n",
        "```python\n",
        "sentence = \"Python Programming is Amazing!\"\n",
        "```\n",
        "\n",
        "**Expected Output:**\n",
        "```\n",
        "The sentence has 9 vowels\n",
        "Vowels found: o, o, a, i, i, A, a, i\n",
        "```"
      ]
    },
    {
      "cell_type": "code",
      "execution_count": 42,
      "id": "18b14f01",
      "metadata": {
        "id": "18b14f01",
        "colab": {
          "base_uri": "https://localhost:8080/"
        },
        "outputId": "b987e081-f460-4c3e-fbc7-76bfaa96c313"
      },
      "outputs": [
        {
          "output_type": "stream",
          "name": "stdout",
          "text": [
            "Python Programming is Amazing!\n",
            "['o', 'o', 'a', 'i', 'i', 'A', 'a', 'i']\n"
          ]
        }
      ],
      "source": [
        "sentence = \"Python Programming is Amazing!\"\n",
        "vowels = \"aeiouAEIOU\"\n",
        "\n",
        "c=0\n",
        "vow=[]\n",
        "for char in sentence:\n",
        "  if char in vowels:\n",
        "    c+=1\n",
        "    vow.append(char)\n",
        "\n",
        "print(sentence)\n",
        "print(vow)\n"
      ]
    },
    {
      "cell_type": "markdown",
      "id": "34ff94e0",
      "metadata": {
        "id": "34ff94e0"
      },
      "source": [
        "### Exercise 4.2: Reverse Each Word\n",
        "**Task:** Reverse each word in a sentence while keeping the word order the same.\n",
        "\n",
        "**Given:**\n",
        "```python\n",
        "sentence = \"Hello World Python\"\n",
        "```\n",
        "\n",
        "**Expected Output:**\n",
        "```\n",
        "Original: Hello World Python\n",
        "Reversed: olleH dlroW nohtyP\n",
        "```"
      ]
    },
    {
      "cell_type": "code",
      "source": [
        "sentence = \"Hello World Python\"\n",
        "rvword=' '.join(word[::-1] for word in sentence.split() )\n",
        "print(sentence,'\\n',rvword)\n"
      ],
      "metadata": {
        "colab": {
          "base_uri": "https://localhost:8080/"
        },
        "id": "FoRfdHOa-PXx",
        "outputId": "99e0d4c7-0453-49b8-b993-de20ffa31d6f"
      },
      "id": "FoRfdHOa-PXx",
      "execution_count": 49,
      "outputs": [
        {
          "output_type": "stream",
          "name": "stdout",
          "text": [
            "Hello World Python \n",
            " olleH dlroW nohtyP\n"
          ]
        }
      ]
    },
    {
      "cell_type": "markdown",
      "id": "c8d58fd6",
      "metadata": {
        "id": "c8d58fd6"
      },
      "source": [
        "### Exercise 4.3: Simple Password Checker\n",
        "**Task:** Check if a password meets these criteria:\n",
        "- At least 8 characters long\n",
        "- Contains at least one digit\n",
        "- Contains at least one uppercase letter\n",
        "\n",
        "**Test with:**\n",
        "```python\n",
        "passwords = [\"hello\", \"Hello123\", \"PASSWORD\", \"MyPass1\"]\n",
        "```\n",
        "\n",
        "**Expected Output:**\n",
        "```\n",
        "hello: ❌ Too short, No digits, No uppercase\n",
        "Hello123: ✅ Valid password\n",
        "PASSWORD: ❌ No digits\n",
        "MyPass1: ✅ Valid password\n",
        "```"
      ]
    },
    {
      "cell_type": "code",
      "execution_count": 54,
      "id": "5a1d5dc6",
      "metadata": {
        "id": "5a1d5dc6",
        "colab": {
          "base_uri": "https://localhost:8080/"
        },
        "outputId": "a7d77503-5a49-422d-a302-f5bebab60398"
      },
      "outputs": [
        {
          "output_type": "stream",
          "name": "stdout",
          "text": [
            "hello: ❌ Too short\n",
            "Hello123: ✅ Valid password\n",
            "PASSWORD: ❌ No digits\n",
            "MyPass1: ❌ Too short\n"
          ]
        }
      ],
      "source": [
        "passwords = [\"hello\", \"Hello123\", \"PASSWORD\", \"MyPass1\"]\n",
        "\n",
        "for i in passwords:\n",
        "  print(i + \":\", end=\" \")\n",
        "  if len(i) < 8:\n",
        "    print('❌ Too short')\n",
        "  elif not any(char.isdigit() for char in i):\n",
        "    print('❌ No digits')\n",
        "  elif not any(char.isupper() for char in i):\n",
        "    print('❌ No uppercase')\n",
        "  else:\n",
        "    print('✅ Valid password')"
      ]
    },
    {
      "cell_type": "markdown",
      "id": "223b2b9d",
      "metadata": {
        "id": "223b2b9d"
      },
      "source": [
        "## ➕➖✖️➗ Section 5: Arithmetic Operations Practice\n",
        "\n",
        "Let's practice mathematical calculations!"
      ]
    },
    {
      "cell_type": "markdown",
      "id": "263b2923",
      "metadata": {
        "id": "263b2923"
      },
      "source": [
        "### Exercise 5.1: Grade Calculator\n",
        "**Task:** Calculate the average grade and determine letter grade.\n",
        "\n",
        "**Given:**\n",
        "```python\n",
        "grades = [85, 92, 78, 96, 88]\n",
        "```\n",
        "\n",
        "**Grading Scale:**\n",
        "- A: 90-100\n",
        "- B: 80-89\n",
        "- C: 70-79\n",
        "- D: 60-69\n",
        "- F: Below 60\n",
        "\n",
        "**Expected Output:**\n",
        "```\n",
        "Grades: [85, 92, 78, 96, 88]\n",
        "Average: 87.8\n",
        "Letter Grade: B\n",
        "```"
      ]
    },
    {
      "cell_type": "code",
      "execution_count": null,
      "id": "b7cc9336",
      "metadata": {
        "id": "b7cc9336"
      },
      "outputs": [],
      "source": [
        "grades = [85, 92, 78, 96, 88]\n",
        "\n",
        "# Your solution here:\n",
        "# Calculate sum, then divide by length for average\n",
        "# Use if-elif statements for letter grade"
      ]
    },
    {
      "cell_type": "markdown",
      "id": "3d22cb89",
      "metadata": {
        "id": "3d22cb89"
      },
      "source": [
        "### Exercise 5.2: Shopping Bill Calculator\n",
        "**Task:** Calculate total bill with discount and tax.\n",
        "\n",
        "**Given:**\n",
        "```python\n",
        "item_prices = [25.99, 12.50, 8.75, 45.00]\n",
        "discount_percent = 15  # 15% discount\n",
        "tax_percent = 8.5      # 8.5% tax\n",
        "```\n",
        "\n",
        "**Calculation Steps:**\n",
        "1. Calculate subtotal\n",
        "2. Apply discount\n",
        "3. Apply tax on discounted amount\n",
        "\n",
        "**Expected Output:**\n",
        "```\n",
        "Item prices: [25.99, 12.5, 8.75, 45.0]\n",
        "Subtotal: $92.24\n",
        "After 15% discount: $78.40\n",
        "After 8.5% tax: $85.06\n",
        "Final bill: $85.06\n",
        "```"
      ]
    },
    {
      "cell_type": "code",
      "execution_count": null,
      "id": "dc31e080",
      "metadata": {
        "id": "dc31e080"
      },
      "outputs": [],
      "source": [
        "item_prices = [25.99, 12.50, 8.75, 45.00]\n",
        "discount_percent = 15  # 15% discount\n",
        "tax_percent = 8.5      # 8.5% tax\n",
        "\n",
        "# Your solution here:\n",
        "# Step 1: Sum all prices\n",
        "# Step 2: Subtract discount (subtotal * discount_percent / 100)\n",
        "# Step 3: Add tax (discounted_amount * tax_percent / 100)"
      ]
    },
    {
      "cell_type": "markdown",
      "id": "a8201d4a",
      "metadata": {
        "id": "a8201d4a"
      },
      "source": [
        "## 📐 Section 6: Math Functions Practice\n",
        "\n",
        "Time to use the math module for advanced calculations!"
      ]
    },
    {
      "cell_type": "markdown",
      "id": "1e029f87",
      "metadata": {
        "id": "1e029f87"
      },
      "source": [
        "### Exercise 6.1: Geometry Calculator\n",
        "**Task:** Calculate the area of different shapes using math functions.\n",
        "\n",
        "**Given shapes:**\n",
        "1. Circle with radius = 7\n",
        "2. Right triangle with sides a = 8, b = 6 (find hypotenuse and area)\n",
        "3. Square with side = 5 (find diagonal)\n",
        "\n",
        "**Expected Output:**\n",
        "```\n",
        "Circle (radius=7):\n",
        "  Area = 153.94 square units\n",
        "\n",
        "Right Triangle (a=8, b=6):\n",
        "  Hypotenuse = 10.0\n",
        "  Area = 24.0 square units\n",
        "\n",
        "Square (side=5):\n",
        "  Area = 25 square units\n",
        "  Diagonal = 7.07\n",
        "```"
      ]
    },
    {
      "cell_type": "code",
      "execution_count": null,
      "id": "e1c9db27",
      "metadata": {
        "id": "e1c9db27"
      },
      "outputs": [],
      "source": [
        "import math\n",
        "\n",
        "# Your solution here:\n",
        "# Circle: area = π * r²\n",
        "# Triangle: hypotenuse = √(a² + b²), area = (a * b) / 2\n",
        "# Square: diagonal = side * √2"
      ]
    },
    {
      "cell_type": "markdown",
      "id": "c6041ddd",
      "metadata": {
        "id": "c6041ddd"
      },
      "source": [
        "### Exercise 6.2: Height of a Building\n",
        "**Task:** Calculate the height of a building using trigonometry.\n",
        "\n",
        "**Problem:** You're standing 50 meters away from a building. The angle of elevation to the top of the building is 30 degrees. Calculate the height of the building.\n",
        "\n",
        "**Formula:** height = distance × tan(angle)\n",
        "\n",
        "**Expected Output:**\n",
        "```\n",
        "Distance from building: 50 meters\n",
        "Angle of elevation: 30 degrees\n",
        "Height of building: 28.87 meters\n",
        "```"
      ]
    },
    {
      "cell_type": "code",
      "execution_count": null,
      "id": "60904333",
      "metadata": {
        "id": "60904333"
      },
      "outputs": [],
      "source": [
        "distance = 50  # meters\n",
        "angle_degrees = 30\n",
        "\n",
        "# Your solution here:\n",
        "# Convert degrees to radians: math.radians()\n",
        "# Use math.tan() to calculate height"
      ]
    },
    {
      "cell_type": "markdown",
      "id": "dddf9be9",
      "metadata": {
        "id": "dddf9be9"
      },
      "source": [
        "## 🏆 Section 7: Challenge Problems\n",
        "\n",
        "Ready for some advanced challenges? These combine multiple concepts!"
      ]
    },
    {
      "cell_type": "markdown",
      "id": "8b438e6e",
      "metadata": {
        "id": "8b438e6e"
      },
      "source": [
        "### Challenge 1: Number Pattern Generator\n",
        "**Task:** Create a pattern where each row has increasing numbers and symbols.\n",
        "\n",
        "**Expected Output:**\n",
        "```\n",
        "Row 1: * 1 *\n",
        "Row 2: ** 1 2 **\n",
        "Row 3: *** 1 2 3 ***\n",
        "Row 4: **** 1 2 3 4 ****\n",
        "Row 5: ***** 1 2 3 4 5 *****\n",
        "```\n",
        "\n",
        "**Requirements:**\n",
        "- Use nested loops or string multiplication\n",
        "- Combine strings and numbers\n",
        "- Create exactly 5 rows"
      ]
    },
    {
      "cell_type": "code",
      "execution_count": null,
      "id": "66baafd9",
      "metadata": {
        "id": "66baafd9"
      },
      "outputs": [],
      "source": [
        "# Your solution here:\n",
        "# Hint: Use range(1, 6) for rows, and range(1, row+1) for numbers\n",
        "# Use \"*\" * row to create the stars"
      ]
    },
    {
      "cell_type": "markdown",
      "id": "d9a7b00d",
      "metadata": {
        "id": "d9a7b00d"
      },
      "source": [
        "### Challenge 2: Text Analyzer\n",
        "**Task:** Create a comprehensive text analyzer that counts various statistics.\n",
        "\n",
        "**Given:**\n",
        "```python\n",
        "text = \"Python programming is fun and powerful. Python makes coding enjoyable!\"\n",
        "```\n",
        "\n",
        "**Required Analysis:**\n",
        "- Total characters (including spaces)\n",
        "- Total words\n",
        "- Total sentences (count periods and exclamation marks)\n",
        "- Most frequent word (case-insensitive)\n",
        "- Average word length\n",
        "\n",
        "**Expected Output:**\n",
        "```\n",
        "Text Analysis Results:\n",
        "===================\n",
        "Total characters: 77\n",
        "Total words: 11\n",
        "Total sentences: 2\n",
        "Most frequent word: 'python' (appears 2 times)\n",
        "Average word length: 5.45 characters\n",
        "```"
      ]
    },
    {
      "cell_type": "code",
      "execution_count": null,
      "id": "59c4e2e2",
      "metadata": {
        "id": "59c4e2e2"
      },
      "outputs": [],
      "source": [
        "text = \"Python programming is fun and powerful. Python makes coding enjoyable!\"\n",
        "\n",
        "# Your solution here:\n",
        "# Hints:\n",
        "# - Use len(text) for characters\n",
        "# - Use split() for words\n",
        "# - Count '.' and '!' for sentences\n",
        "# - Create a dictionary to count word frequency\n",
        "# - Calculate average by summing word lengths and dividing by word count"
      ]
    },
    {
      "cell_type": "markdown",
      "id": "e3b59eba",
      "metadata": {
        "id": "e3b59eba"
      },
      "source": [
        "### Challenge 3: Prime Number Finder\n",
        "**Task:** Find all prime numbers between 1 and 50, calculate their sum, and find the largest gap between consecutive primes.\n",
        "\n",
        "**Prime Definition:** A number greater than 1 that has no positive divisors other than 1 and itself.\n",
        "\n",
        "**Expected Output:**\n",
        "```\n",
        "Prime numbers between 1 and 50:\n",
        "2, 3, 5, 7, 11, 13, 17, 19, 23, 29, 31, 37, 41, 43, 47\n",
        "\n",
        "Statistics:\n",
        "- Total primes found: 15\n",
        "- Sum of all primes: 328\n",
        "- Largest gap between consecutive primes: 4 (between 23 and 29)\n",
        "```\n",
        "\n",
        "**Hint:** Use nested loops and the modulus operator to check divisibility."
      ]
    },
    {
      "cell_type": "code",
      "execution_count": null,
      "id": "170891fc",
      "metadata": {
        "id": "170891fc"
      },
      "outputs": [],
      "source": [
        "# Your solution here:\n",
        "# Algorithm:\n",
        "# 1. For each number from 2 to 50:\n",
        "#    - Check if it's divisible by any number from 2 to sqrt(number)\n",
        "#    - If no divisors found, it's prime\n",
        "# 2. Calculate sum and find largest gap"
      ]
    },
    {
      "cell_type": "markdown",
      "id": "336aac76",
      "metadata": {
        "id": "336aac76"
      },
      "source": [
        "## 🎉 Congratulations!\n",
        "\n",
        "You've completed all the practice exercises! Here's what you've practiced:\n",
        "\n",
        "### Skills Covered:\n",
        "- ✅ **For Loops**: Iteration, ranges, and list processing\n",
        "- ✅ **While Loops**: Conditional repetition and counters\n",
        "- ✅ **Break & Continue**: Flow control and early exits\n",
        "- ✅ **String Operations**: Manipulation, analysis, and formatting\n",
        "- ✅ **Arithmetic**: Calculations, operators, and precedence\n",
        "- ✅ **Math Functions**: Advanced mathematical operations\n",
        "\n",
        "### Solution Tips:\n",
        "If you got stuck, here are some general approaches:\n",
        "1. **Break down complex problems** into smaller steps\n",
        "2. **Use print statements** to debug your logic\n",
        "3. **Test with simple examples** first\n",
        "4. **Don't forget to handle edge cases**\n",
        "5. **Read error messages carefully** - they often tell you exactly what's wrong\n",
        "\n",
        "### Next Steps:\n",
        "- Try modifying the exercises with different inputs\n",
        "- Combine multiple concepts in your own projects\n",
        "- Explore Python documentation for more built-in functions\n",
        "- Practice regularly to build muscle memory\n",
        "\n",
        "Keep coding and keep learning! 🚀🐍"
      ]
    }
  ],
  "metadata": {
    "language_info": {
      "name": "python"
    },
    "colab": {
      "provenance": [],
      "include_colab_link": true
    },
    "kernelspec": {
      "name": "python3",
      "display_name": "Python 3"
    }
  },
  "nbformat": 4,
  "nbformat_minor": 5
}