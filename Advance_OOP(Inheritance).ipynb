{
  "nbformat": 4,
  "nbformat_minor": 0,
  "metadata": {
    "colab": {
      "provenance": [],
      "authorship_tag": "ABX9TyPUOT1cs8I5a19BwikrvrAV",
      "include_colab_link": true
    },
    "kernelspec": {
      "name": "python3",
      "display_name": "Python 3"
    },
    "language_info": {
      "name": "python"
    }
  },
  "cells": [
    {
      "cell_type": "markdown",
      "metadata": {
        "id": "view-in-github",
        "colab_type": "text"
      },
      "source": [
        "<a href=\"https://colab.research.google.com/github/abdurrahman16/python-OOP/blob/main/Advance_OOP(Inheritance).ipynb\" target=\"_parent\"><img src=\"https://colab.research.google.com/assets/colab-badge.svg\" alt=\"Open In Colab\"/></a>"
      ]
    },
    {
      "cell_type": "code",
      "source": [
        "from os import name\n",
        "#Inheritance\n",
        "class Animal:\n",
        "    def __init__(self, name):\n",
        "      self.name=name\n",
        "    def Sound(self):\n",
        "      print(f\"({self.name} is a good animal)\")\n",
        "\n",
        "\n",
        "\n",
        "class doggy(Animal):\n",
        "  def Category1(self):\n",
        "    print(f\"({self.name} is a Dog! )\")\n",
        "\n",
        "\n",
        "\n",
        "class cat(Animal):\n",
        " def Category2(self):\n",
        "  print(f\"({self.name} is a Pussy! )\")\n",
        "\n",
        "dog=doggy('Tiger')\n",
        "dog.Sound()\n",
        "dog.Category1()\n",
        "\n",
        "cater= cat('Honu')\n",
        "cater.Sound()\n",
        "cater.Category2()\n",
        "\n",
        "\n",
        "\n"
      ],
      "metadata": {
        "id": "IXH3yDldQE9O",
        "colab": {
          "base_uri": "https://localhost:8080/"
        },
        "outputId": "f0cf22bc-a84d-4919-c324-f02c782e565b"
      },
      "execution_count": 39,
      "outputs": [
        {
          "output_type": "stream",
          "name": "stdout",
          "text": [
            "(Tiger is a good animal)\n",
            "(Tiger is a Dog! )\n",
            "(Honu is a good animal)\n",
            "(Honu is a Pussy! )\n"
          ]
        }
      ]
    }
  ]
}