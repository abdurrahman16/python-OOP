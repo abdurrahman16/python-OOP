{
  "nbformat": 4,
  "nbformat_minor": 0,
  "metadata": {
    "colab": {
      "provenance": [],
      "authorship_tag": "ABX9TyPqmwEW29wgQE6qXMDCw5KF",
      "include_colab_link": true
    },
    "kernelspec": {
      "name": "python3",
      "display_name": "Python 3"
    },
    "language_info": {
      "name": "python"
    }
  },
  "cells": [
    {
      "cell_type": "markdown",
      "metadata": {
        "id": "view-in-github",
        "colab_type": "text"
      },
      "source": [
        "<a href=\"https://colab.research.google.com/github/abdurrahman16/python-OOP/blob/main/inheritance.ipynb\" target=\"_parent\"><img src=\"https://colab.research.google.com/assets/colab-badge.svg\" alt=\"Open In Colab\"/></a>"
      ]
    },
    {
      "cell_type": "code",
      "source": [
        "#single inheritance\n",
        "class Masters:\n",
        "    def __init__(self, color, fname):\n",
        "        self.color = color\n",
        "        self.fname = fname\n",
        "#second class\n",
        "class Masters_2(Masters):\n",
        "    def __init__(self,hobby,color,fname):\n",
        "      super().__init__(color,fname) #super function\n",
        "      self.hobby = hobby\n",
        "\n",
        "gf=Masters_2('Fishing','Red','Huda')\n",
        "print(gf.hobby)\n",
        "\n"
      ],
      "metadata": {
        "colab": {
          "base_uri": "https://localhost:8080/"
        },
        "id": "JB3r2szKwpw9",
        "outputId": "7981af59-298d-4d84-8ea6-efab4bc54f4b"
      },
      "execution_count": 8,
      "outputs": [
        {
          "output_type": "stream",
          "name": "stdout",
          "text": [
            "Fishing\n"
          ]
        }
      ]
    }
  ]
}