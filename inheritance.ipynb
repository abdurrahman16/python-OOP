{
  "nbformat": 4,
  "nbformat_minor": 0,
  "metadata": {
    "colab": {
      "provenance": [],
      "authorship_tag": "ABX9TyMerDxdmTe5K/CapaCWnaVx",
      "include_colab_link": true
    },
    "kernelspec": {
      "name": "python3",
      "display_name": "Python 3"
    },
    "language_info": {
      "name": "python"
    }
  },
  "cells": [
    {
      "cell_type": "markdown",
      "metadata": {
        "id": "view-in-github",
        "colab_type": "text"
      },
      "source": [
        "<a href=\"https://colab.research.google.com/github/abdurrahman16/python-OOP/blob/main/inheritance.ipynb\" target=\"_parent\"><img src=\"https://colab.research.google.com/assets/colab-badge.svg\" alt=\"Open In Colab\"/></a>"
      ]
    },
    {
      "cell_type": "code",
      "source": [
        "from re import A\n",
        "class Shape():\n",
        "  def __init__(self, a,b):\n",
        "    self.a=a\n",
        "    self.b=b\n",
        "  def area(self):\n",
        "    print('Area is:')\n",
        "\n",
        "class Triangle(Shape):\n",
        "   def area(self):\n",
        "    print('Triangle Area is:', 0.5*self.a*self.b )\n",
        "\n",
        "class Rectangle(Shape):\n",
        "   def area(self):\n",
        "    print('Rectangle Area is:',self.a*self.b )\n",
        "\n",
        "f1=Triangle(2,15)\n",
        "f1.area()\n",
        "\n",
        "f2= Rectangle(5,2)\n",
        "f2.area()"
      ],
      "metadata": {
        "id": "LapSj8H1URZy",
        "colab": {
          "base_uri": "https://localhost:8080/"
        },
        "outputId": "0c0b2c46-9067-425a-8dfa-6fee3dd9289b"
      },
      "execution_count": 34,
      "outputs": [
        {
          "output_type": "stream",
          "name": "stdout",
          "text": [
            "Triangle Area is: 15.0\n",
            "Rectangle Area is: 10\n"
          ]
        }
      ]
    }
  ]
}