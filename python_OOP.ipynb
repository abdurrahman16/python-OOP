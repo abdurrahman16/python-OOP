{
  "nbformat": 4,
  "nbformat_minor": 0,
  "metadata": {
    "colab": {
      "provenance": [],
      "authorship_tag": "ABX9TyOXi3EudrV60XlqoBc22syf",
      "include_colab_link": true
    },
    "kernelspec": {
      "name": "python3",
      "display_name": "Python 3"
    },
    "language_info": {
      "name": "python"
    }
  },
  "cells": [
    {
      "cell_type": "markdown",
      "metadata": {
        "id": "view-in-github",
        "colab_type": "text"
      },
      "source": [
        "<a href=\"https://colab.research.google.com/github/abdurrahman16/python-OOP/blob/main/python_OOP.ipynb\" target=\"_parent\"><img src=\"https://colab.research.google.com/assets/colab-badge.svg\" alt=\"Open In Colab\"/></a>"
      ]
    },
    {
      "cell_type": "code",
      "source": [
        "#object and class\n",
        "class Car:\n",
        "  def __init__(self):\n",
        "    self.model=\"\"\n",
        "    self.brand=\"\"\n",
        "\n",
        "mycar= Car()\n",
        "mycar.brand=\"Toyota\"\n",
        "mycar.model=\"Corolla\"\n",
        "\n",
        "mywifecar= Car()\n",
        "mywifecar.brand=\"Pookie\"\n",
        "mywifecar.model=\"Shitteimasen\"\n",
        "\n",
        "print(mycar.brand,mycar.model)\n",
        "print(mywifecar.brand,mywifecar.model)\n",
        "\n",
        "class Varsity:\n",
        "  def __init__(self):\n",
        "    self.nam=''\n",
        "    self.loc=''\n",
        "\n",
        "var1=Varsity()\n",
        "var1.nam=\"Saga\"\n",
        "var1.loc=\"japang\"\n",
        "print(var1.nam,var1.loc)"
      ],
      "metadata": {
        "id": "BVuBKjDGjBzp",
        "colab": {
          "base_uri": "https://localhost:8080/"
        },
        "outputId": "89408647-b48e-4f3a-a953-6b47bedde363"
      },
      "execution_count": 8,
      "outputs": [
        {
          "output_type": "stream",
          "name": "stdout",
          "text": [
            "Toyota Corolla\n",
            "Pookie Shitteimasen\n",
            "Saga japang\n"
          ]
        }
      ]
    }
  ]
}