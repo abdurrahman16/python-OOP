{
  "nbformat": 4,
  "nbformat_minor": 0,
  "metadata": {
    "colab": {
      "provenance": [],
      "authorship_tag": "ABX9TyNnbVzL19cK1Q7C8m+XWamx",
      "include_colab_link": true
    },
    "kernelspec": {
      "name": "python3",
      "display_name": "Python 3"
    },
    "language_info": {
      "name": "python"
    }
  },
  "cells": [
    {
      "cell_type": "markdown",
      "metadata": {
        "id": "view-in-github",
        "colab_type": "text"
      },
      "source": [
        "<a href=\"https://colab.research.google.com/github/abdurrahman16/python-OOP/blob/main/Advance_Data_Strucutres.ipynb\" target=\"_parent\"><img src=\"https://colab.research.google.com/assets/colab-badge.svg\" alt=\"Open In Colab\"/></a>"
      ]
    },
    {
      "cell_type": "code",
      "source": [
        "#dictionary practice\n",
        "my_dic={\n",
        "    \"Name\": 'Babu',\n",
        "    \"Age\": 121,\n",
        "    'NewDict':\n",
        "    {\n",
        "        \"clas\": 5,\n",
        "        \"section\": 'B'\n",
        "    }\n",
        "}\n",
        "print()\n",
        "print('Your result is: ', list(my_dic['NewDict'].keys())[0])"
      ],
      "metadata": {
        "colab": {
          "base_uri": "https://localhost:8080/"
        },
        "id": "Oc1Y9jNT-H-s",
        "outputId": "8db2dc35-6e4b-4587-98f1-88d398a17a7f"
      },
      "execution_count": 22,
      "outputs": [
        {
          "output_type": "stream",
          "name": "stdout",
          "text": [
            "\n",
            "Your result is:  clas\n"
          ]
        }
      ]
    }
  ]
}