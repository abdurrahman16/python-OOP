{
  "nbformat": 4,
  "nbformat_minor": 0,
  "metadata": {
    "colab": {
      "provenance": [],
      "authorship_tag": "ABX9TyPkxKzDwc8ScwTGe3i2qHhx",
      "include_colab_link": true
    },
    "kernelspec": {
      "name": "python3",
      "display_name": "Python 3"
    },
    "language_info": {
      "name": "python"
    }
  },
  "cells": [
    {
      "cell_type": "markdown",
      "metadata": {
        "id": "view-in-github",
        "colab_type": "text"
      },
      "source": [
        "<a href=\"https://colab.research.google.com/github/abdurrahman16/python-OOP/blob/main/Advance_Data_Strucutres.ipynb\" target=\"_parent\"><img src=\"https://colab.research.google.com/assets/colab-badge.svg\" alt=\"Open In Colab\"/></a>"
      ]
    },
    {
      "cell_type": "code",
      "source": [
        "#function returning multiple values\n",
        "\n",
        "def myfunc(fullname):\n",
        "  parts=fullname.split()\n",
        "  fname=parts[0]\n",
        "  lname=parts[-1] if len(parts)>1 else \"\"\n",
        "  return fname,lname\n",
        "\n",
        "first, last=myfunc('Abdur Rahman')\n",
        "print(f'First Name: {first} Last Name: {last}')\n"
      ],
      "metadata": {
        "id": "LapSj8H1URZy",
        "colab": {
          "base_uri": "https://localhost:8080/"
        },
        "outputId": "4e216a3f-ccb7-44a5-b6d0-bd35245c2c76"
      },
      "execution_count": 15,
      "outputs": [
        {
          "output_type": "stream",
          "name": "stdout",
          "text": [
            "First Name: Abdur Last Name: Rahman\n"
          ]
        }
      ]
    }
  ]
}