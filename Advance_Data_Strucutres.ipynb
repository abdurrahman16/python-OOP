{
  "nbformat": 4,
  "nbformat_minor": 0,
  "metadata": {
    "colab": {
      "provenance": [],
      "authorship_tag": "ABX9TyMrqxsdcDpykOkTL9MSGUH5",
      "include_colab_link": true
    },
    "kernelspec": {
      "name": "python3",
      "display_name": "Python 3"
    },
    "language_info": {
      "name": "python"
    }
  },
  "cells": [
    {
      "cell_type": "markdown",
      "metadata": {
        "id": "view-in-github",
        "colab_type": "text"
      },
      "source": [
        "<a href=\"https://colab.research.google.com/github/abdurrahman16/python-OOP/blob/main/Advance_Data_Strucutres.ipynb\" target=\"_parent\"><img src=\"https://colab.research.google.com/assets/colab-badge.svg\" alt=\"Open In Colab\"/></a>"
      ]
    },
    {
      "cell_type": "code",
      "source": [
        "#iteration\n",
        "person = {\n",
        "    \"name\": \"Alice\",\n",
        "    \"age\": 30,\n",
        "    \"city\": \"New York\",\n",
        "    \"is_student\": False\n",
        "}\n",
        "for tester in person:\n",
        "  print(f'{tester}- {person[tester]}')\n",
        "\n",
        "print('-------------')\n",
        "for ntester in person.values():\n",
        "    print(ntester)"
      ],
      "metadata": {
        "colab": {
          "base_uri": "https://localhost:8080/"
        },
        "id": "TN5AneP1Gafq",
        "outputId": "015d8b0a-54c4-46a9-8676-49d81e0d7610"
      },
      "execution_count": 49,
      "outputs": [
        {
          "output_type": "stream",
          "name": "stdout",
          "text": [
            "name- Alice\n",
            "age- 30\n",
            "city- New York\n",
            "is_student- False\n",
            "-------------\n",
            "Alice\n",
            "30\n",
            "New York\n",
            "False\n"
          ]
        }
      ]
    }
  ]
}