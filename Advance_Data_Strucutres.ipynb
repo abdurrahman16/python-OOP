{
  "nbformat": 4,
  "nbformat_minor": 0,
  "metadata": {
    "colab": {
      "provenance": [],
      "authorship_tag": "ABX9TyP2TxeGa6lu5X99IWtrWa9T",
      "include_colab_link": true
    },
    "kernelspec": {
      "name": "python3",
      "display_name": "Python 3"
    },
    "language_info": {
      "name": "python"
    }
  },
  "cells": [
    {
      "cell_type": "markdown",
      "metadata": {
        "id": "view-in-github",
        "colab_type": "text"
      },
      "source": [
        "<a href=\"https://colab.research.google.com/github/abdurrahman16/python-OOP/blob/main/Advance_Data_Strucutres.ipynb\" target=\"_parent\"><img src=\"https://colab.research.google.com/assets/colab-badge.svg\" alt=\"Open In Colab\"/></a>"
      ]
    },
    {
      "cell_type": "code",
      "source": [
        "class Phone:\n",
        "  def __init__(self):\n",
        "    print('I am a Device')\n",
        "\n",
        "class Brand(Phone):\n",
        "  def __init__(self): #method override\n",
        "    print(' I am a Brand')\n",
        "    super().__init__()  #super access\n",
        "\n",
        "\n",
        "b= Brand()"
      ],
      "metadata": {
        "id": "LapSj8H1URZy",
        "colab": {
          "base_uri": "https://localhost:8080/"
        },
        "outputId": "bf734471-b124-4c55-ed58-4a9f8396a8ec"
      },
      "execution_count": 28,
      "outputs": [
        {
          "output_type": "stream",
          "name": "stdout",
          "text": [
            " I am a Brand\n",
            "I am a Device\n"
          ]
        }
      ]
    }
  ]
}