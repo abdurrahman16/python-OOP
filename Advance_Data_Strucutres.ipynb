{
  "nbformat": 4,
  "nbformat_minor": 0,
  "metadata": {
    "colab": {
      "provenance": [],
      "authorship_tag": "ABX9TyNReAgU49h2C+xWOna0XzTB",
      "include_colab_link": true
    },
    "kernelspec": {
      "name": "python3",
      "display_name": "Python 3"
    },
    "language_info": {
      "name": "python"
    }
  },
  "cells": [
    {
      "cell_type": "markdown",
      "metadata": {
        "id": "view-in-github",
        "colab_type": "text"
      },
      "source": [
        "<a href=\"https://colab.research.google.com/github/abdurrahman16/python-OOP/blob/main/Advance_Data_Strucutres.ipynb\" target=\"_parent\"><img src=\"https://colab.research.google.com/assets/colab-badge.svg\" alt=\"Open In Colab\"/></a>"
      ]
    },
    {
      "cell_type": "code",
      "source": [
        "arr=[[1,2,3],[4,5,6]] #2d matrix\n",
        "print(arr)\n",
        "\n",
        "checker=(arr[1][2]) #matrix access\n",
        "print(checker)\n",
        "\n",
        "list1=[1,2,3]\n",
        "list2=[4,4,4,5,6]\n",
        "list3=list1+list2 #list concatenation\n",
        "c=list3.count(4)\n",
        "print(list3)\n",
        "print(c)"
      ],
      "metadata": {
        "id": "g2S0VIDL6Jo0",
        "colab": {
          "base_uri": "https://localhost:8080/"
        },
        "outputId": "2d56a59d-83e6-434d-b6d3-4438521e6033"
      },
      "execution_count": 11,
      "outputs": [
        {
          "output_type": "stream",
          "name": "stdout",
          "text": [
            "[[1, 2, 3], [4, 5, 6]]\n",
            "6\n",
            "[1, 2, 3, 4, 4, 4, 5, 6]\n",
            "3\n"
          ]
        }
      ]
    }
  ]
}