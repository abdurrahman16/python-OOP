{
  "nbformat": 4,
  "nbformat_minor": 0,
  "metadata": {
    "colab": {
      "provenance": [],
      "authorship_tag": "ABX9TyOI94gHTTjrI9YWWc0UPk2q",
      "include_colab_link": true
    },
    "kernelspec": {
      "name": "python3",
      "display_name": "Python 3"
    },
    "language_info": {
      "name": "python"
    }
  },
  "cells": [
    {
      "cell_type": "markdown",
      "metadata": {
        "id": "view-in-github",
        "colab_type": "text"
      },
      "source": [
        "<a href=\"https://colab.research.google.com/github/abdurrahman16/python-OOP/blob/main/Advance_Data_Strucutres.ipynb\" target=\"_parent\"><img src=\"https://colab.research.google.com/assets/colab-badge.svg\" alt=\"Open In Colab\"/></a>"
      ]
    },
    {
      "cell_type": "code",
      "source": [
        "#pop; it returns value and remove from the last\n",
        "#insert: it needs index to insert\n",
        "#remove\n",
        "#append\n",
        "# extend([2,4,6]): can add extended list to main list\n",
        "#slice(:2)\n",
        "\n",
        "\n"
      ],
      "metadata": {
        "id": "g2S0VIDL6Jo0"
      },
      "execution_count": null,
      "outputs": []
    }
  ]
}