{
  "nbformat": 4,
  "nbformat_minor": 0,
  "metadata": {
    "colab": {
      "provenance": [],
      "authorship_tag": "ABX9TyNso5NsW96WJRty5rG/KmIg",
      "include_colab_link": true
    },
    "kernelspec": {
      "name": "python3",
      "display_name": "Python 3"
    },
    "language_info": {
      "name": "python"
    }
  },
  "cells": [
    {
      "cell_type": "markdown",
      "metadata": {
        "id": "view-in-github",
        "colab_type": "text"
      },
      "source": [
        "<a href=\"https://colab.research.google.com/github/abdurrahman16/python-OOP/blob/main/list.ipynb\" target=\"_parent\"><img src=\"https://colab.research.google.com/assets/colab-badge.svg\" alt=\"Open In Colab\"/></a>"
      ]
    },
    {
      "cell_type": "code",
      "source": [
        "import string\n",
        "\n",
        "mytext = input('Enter Your String: ')\n",
        "print('--------------')\n",
        "print(f'You entered: {mytext}')\n",
        "print('--------------')\n",
        "\n",
        "# Lowercase the text\n",
        "mytext1 = mytext.lower()\n",
        "print(f'Lowercase is: {mytext1}')\n",
        "print('--------------')\n",
        "\n",
        "# Remove punctuation\n",
        "translator = str.maketrans('', '', string.punctuation)\n",
        "ftext = mytext1.translate(translator)\n",
        "print(f'Punctuation removed: {ftext}')\n",
        "print('--------------')\n",
        "# Split into words\n",
        "mytext2 = ftext.split()\n",
        "print(f'Splitted Words: {mytext2}')\n",
        "print('--------------')\n",
        "\n",
        "# Count specific words\n",
        "mydic = {\n",
        "    'hello': mytext2.count('hello'),\n",
        "    'world': mytext2.count('world'),\n",
        "    'this': mytext2.count('this'),\n",
        "    'is': mytext2.count('is'),\n",
        "    'a': mytext2.count('a'),\n",
        "    'test': mytext2.count('test'),\n",
        "    'again': mytext2.count('again')\n",
        "}\n",
        "print(mydic)\n",
        "\n"
      ],
      "metadata": {
        "colab": {
          "base_uri": "https://localhost:8080/"
        },
        "id": "74hi0ey_V3rU",
        "outputId": "5c3b2d66-1f48-4e33-cac7-c9ae46ab81da"
      },
      "execution_count": 13,
      "outputs": [
        {
          "output_type": "stream",
          "name": "stdout",
          "text": [
            "Enter Your String: Hello world! This is a test. Hello again, world!\n",
            "--------------\n",
            "You entered: Hello world! This is a test. Hello again, world!\n",
            "--------------\n",
            "Lowercase is: hello world! this is a test. hello again, world!\n",
            "--------------\n",
            "Punctuation removed: hello world this is a test hello again world\n",
            "--------------\n",
            "Splitted Words: ['hello', 'world', 'this', 'is', 'a', 'test', 'hello', 'again', 'world']\n",
            "--------------\n",
            "{'hello': 2, 'world': 2, 'this': 1, 'is': 1, 'a': 1, 'test': 1, 'again': 1}\n"
          ]
        }
      ]
    }
  ]
}